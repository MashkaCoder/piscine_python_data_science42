{
 "cells": [
  {
   "cell_type": "code",
   "execution_count": 21,
   "metadata": {
    "collapsed": true,
    "pycharm": {
     "name": "#%%\n"
    }
   },
   "outputs": [],
   "source": [
    "import pandas as pd\n",
    "import sqlite3\n",
    "import matplotlib.pyplot as plt"
   ]
  },
  {
   "cell_type": "markdown",
   "source": [
    "## Connection to db"
   ],
   "metadata": {
    "collapsed": false,
    "pycharm": {
     "name": "#%% md\n"
    }
   }
  },
  {
   "cell_type": "code",
   "execution_count": 22,
   "outputs": [],
   "source": [
    "db_con = sqlite3.connect('../data/checking-logs.sqlite.sqlite')"
   ],
   "metadata": {
    "collapsed": false,
    "pycharm": {
     "name": "#%%\n"
    }
   }
  },
  {
   "cell_type": "markdown",
   "source": [
    "## analyze only the users and not the admins"
   ],
   "metadata": {
    "collapsed": false,
    "pycharm": {
     "name": "#%% md\n"
    }
   }
  },
  {
   "cell_type": "code",
   "execution_count": 23,
   "outputs": [
    {
     "data": {
      "text/plain": "                      timestamp        date  hour  dayofweek          day\n0    2020-04-17 05:19:02.744528  2020-04-17     5          4  working_day\n1    2020-04-17 05:22:35.249331  2020-04-17     5          4  working_day\n2    2020-04-17 05:22:45.549397  2020-04-17     5          4  working_day\n3    2020-04-17 05:34:14.691200  2020-04-17     5          4  working_day\n4    2020-04-17 05:34:24.422370  2020-04-17     5          4  working_day\n...                         ...         ...   ...        ...          ...\n3202 2020-05-21 20:19:06.872761  2020-05-21    20          3  working_day\n3203 2020-05-21 20:22:41.785725  2020-05-21    20          3  working_day\n3204 2020-05-21 20:22:41.877806  2020-05-21    20          3  working_day\n3205 2020-05-21 20:37:00.129678  2020-05-21    20          3  working_day\n3206 2020-05-21 20:37:00.290491  2020-05-21    20          3  working_day\n\n[3207 rows x 5 columns]",
      "text/html": "<div>\n<style scoped>\n    .dataframe tbody tr th:only-of-type {\n        vertical-align: middle;\n    }\n\n    .dataframe tbody tr th {\n        vertical-align: top;\n    }\n\n    .dataframe thead th {\n        text-align: right;\n    }\n</style>\n<table border=\"1\" class=\"dataframe\">\n  <thead>\n    <tr style=\"text-align: right;\">\n      <th></th>\n      <th>timestamp</th>\n      <th>date</th>\n      <th>hour</th>\n      <th>dayofweek</th>\n      <th>day</th>\n    </tr>\n  </thead>\n  <tbody>\n    <tr>\n      <th>0</th>\n      <td>2020-04-17 05:19:02.744528</td>\n      <td>2020-04-17</td>\n      <td>5</td>\n      <td>4</td>\n      <td>working_day</td>\n    </tr>\n    <tr>\n      <th>1</th>\n      <td>2020-04-17 05:22:35.249331</td>\n      <td>2020-04-17</td>\n      <td>5</td>\n      <td>4</td>\n      <td>working_day</td>\n    </tr>\n    <tr>\n      <th>2</th>\n      <td>2020-04-17 05:22:45.549397</td>\n      <td>2020-04-17</td>\n      <td>5</td>\n      <td>4</td>\n      <td>working_day</td>\n    </tr>\n    <tr>\n      <th>3</th>\n      <td>2020-04-17 05:34:14.691200</td>\n      <td>2020-04-17</td>\n      <td>5</td>\n      <td>4</td>\n      <td>working_day</td>\n    </tr>\n    <tr>\n      <th>4</th>\n      <td>2020-04-17 05:34:24.422370</td>\n      <td>2020-04-17</td>\n      <td>5</td>\n      <td>4</td>\n      <td>working_day</td>\n    </tr>\n    <tr>\n      <th>...</th>\n      <td>...</td>\n      <td>...</td>\n      <td>...</td>\n      <td>...</td>\n      <td>...</td>\n    </tr>\n    <tr>\n      <th>3202</th>\n      <td>2020-05-21 20:19:06.872761</td>\n      <td>2020-05-21</td>\n      <td>20</td>\n      <td>3</td>\n      <td>working_day</td>\n    </tr>\n    <tr>\n      <th>3203</th>\n      <td>2020-05-21 20:22:41.785725</td>\n      <td>2020-05-21</td>\n      <td>20</td>\n      <td>3</td>\n      <td>working_day</td>\n    </tr>\n    <tr>\n      <th>3204</th>\n      <td>2020-05-21 20:22:41.877806</td>\n      <td>2020-05-21</td>\n      <td>20</td>\n      <td>3</td>\n      <td>working_day</td>\n    </tr>\n    <tr>\n      <th>3205</th>\n      <td>2020-05-21 20:37:00.129678</td>\n      <td>2020-05-21</td>\n      <td>20</td>\n      <td>3</td>\n      <td>working_day</td>\n    </tr>\n    <tr>\n      <th>3206</th>\n      <td>2020-05-21 20:37:00.290491</td>\n      <td>2020-05-21</td>\n      <td>20</td>\n      <td>3</td>\n      <td>working_day</td>\n    </tr>\n  </tbody>\n</table>\n<p>3207 rows × 5 columns</p>\n</div>"
     },
     "execution_count": 23,
     "metadata": {},
     "output_type": "execute_result"
    }
   ],
   "source": [
    "table = pd.io.sql.read_sql(\"select timestamp from checker WHERE uid LIKE 'user_%'\", db_con, parse_dates='timestamp')\n",
    "table['date'] = table['timestamp'].dt.date\n",
    "table['hour'] = table['timestamp'].dt.hour\n",
    "table['dayofweek'] = table['timestamp'].dt.dayofweek\n",
    "table['day'] = table['dayofweek'].apply(lambda x: 'weekend' if x > 4 else 'working_day')\n",
    "table"
   ],
   "metadata": {
    "collapsed": false,
    "pycharm": {
     "name": "#%%\n"
    }
   }
  },
  {
   "cell_type": "markdown",
   "source": [
    "## create two lists of values (for working days and for weekends) for the histogram input"
   ],
   "metadata": {
    "collapsed": false,
    "pycharm": {
     "name": "#%% md\n"
    }
   }
  },
  {
   "cell_type": "code",
   "execution_count": 24,
   "outputs": [
    {
     "data": {
      "text/plain": "2037"
     },
     "execution_count": 24,
     "metadata": {},
     "output_type": "execute_result"
    }
   ],
   "source": [
    "working_day = list(table[table['day'] == 'working_day']['hour'])\n",
    "len(working_day)"
   ],
   "metadata": {
    "collapsed": false,
    "pycharm": {
     "name": "#%%\n"
    }
   }
  },
  {
   "cell_type": "code",
   "execution_count": 25,
   "outputs": [
    {
     "data": {
      "text/plain": "1170"
     },
     "execution_count": 25,
     "metadata": {},
     "output_type": "execute_result"
    }
   ],
   "source": [
    "weekend = list(table[table['day'] == 'weekend']['hour'])\n",
    "len(weekend)"
   ],
   "metadata": {
    "collapsed": false,
    "pycharm": {
     "name": "#%%\n"
    }
   }
  },
  {
   "cell_type": "markdown",
   "source": [
    "## the figsize is still the same, you can choose the fontsize as well as the color palette\n",
    "##  use a level of transparency for the histogram in front equal to 0.7"
   ],
   "metadata": {
    "collapsed": false,
    "pycharm": {
     "name": "#%% md\n"
    }
   }
  },
  {
   "cell_type": "code",
   "execution_count": 26,
   "outputs": [
    {
     "data": {
      "text/plain": "<Figure size 1500x800 with 1 Axes>",
      "image/png": "[encoded data removed]"
     },
     "metadata": {},
     "output_type": "display_data"
    }
   ],
   "source": [
    "fig, ax = plt.subplots(figsize=(15, 8))\n",
    "plt.rc('font', size=12)\n",
    "ax.hist(working_day, bins=24, color='xkcd:blue', label='working days')\n",
    "ax.hist(weekend, bins=24, alpha=0.7, color='xkcd:red', label='weekend')\n",
    "ax.legend()\n",
    "ax.set_xlim(0, 24)\n",
    "plt.show()"
   ],
   "metadata": {
    "collapsed": false,
    "pycharm": {
     "name": "#%%\n"
    }
   }
  },
  {
   "cell_type": "markdown",
   "source": [
    "## Are there hours when the total number of commits was higher on weekends than on working days?"
   ],
   "metadata": {
    "collapsed": false,
    "pycharm": {
     "name": "#%% md\n"
    }
   }
  },
  {
   "cell_type": "markdown",
   "source": [
    "11, 13, 22, 23"
   ],
   "metadata": {
    "collapsed": false,
    "pycharm": {
     "name": "#%% md\n"
    }
   }
  }
 ],
 "metadata": {
  "kernelspec": {
   "display_name": "Python 3",
   "language": "python",
   "name": "python3"
  },
  "language_info": {
   "codemirror_mode": {
    "name": "ipython",
    "version": 2
   },
   "file_extension": ".py",
   "mimetype": "text/x-python",
   "name": "python",
   "nbconvert_exporter": "python",
   "pygments_lexer": "ipython2",
   "version": "2.7.6"
  }
 },
 "nbformat": 4,
 "nbformat_minor": 0
}