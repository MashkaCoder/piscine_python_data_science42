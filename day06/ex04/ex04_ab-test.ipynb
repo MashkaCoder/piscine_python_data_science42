{
 "cells": [
  {
   "cell_type": "code",
   "execution_count": 12,
   "metadata": {
    "collapsed": true,
    "pycharm": {
     "name": "#%%\n"
    }
   },
   "outputs": [],
   "source": [
    "import pandas as pd\n",
    "import sqlite3"
   ]
  },
  {
   "cell_type": "markdown",
   "source": [
    "## Create a connection to the database using the library sqlite3"
   ],
   "metadata": {
    "collapsed": false,
    "pycharm": {
     "name": "#%% md\n"
    }
   }
  },
  {
   "cell_type": "code",
   "execution_count": 13,
   "outputs": [],
   "source": [
    "db_con = sqlite3.connect('../data/checking-logs.sqlite.sqlite')"
   ],
   "metadata": {
    "collapsed": false,
    "pycharm": {
     "name": "#%%\n"
    }
   }
  },
  {
   "cell_type": "markdown",
   "source": [
    "## using only one query for each of the groups, create two dataframes: test_results and control_results with the columns time and avg_diff and only two rows"
   ],
   "metadata": {
    "collapsed": false,
    "pycharm": {
     "name": "#%% md\n"
    }
   }
  },
  {
   "cell_type": "code",
   "execution_count": 14,
   "outputs": [
    {
     "data": {
      "text/plain": "     time  avg_diff\n0   after -104.6000\n1  before  -60.5625",
      "text/html": "<div>\n<style scoped>\n    .dataframe tbody tr th:only-of-type {\n        vertical-align: middle;\n    }\n\n    .dataframe tbody tr th {\n        vertical-align: top;\n    }\n\n    .dataframe thead th {\n        text-align: right;\n    }\n</style>\n<table border=\"1\" class=\"dataframe\">\n  <thead>\n    <tr style=\"text-align: right;\">\n      <th></th>\n      <th>time</th>\n      <th>avg_diff</th>\n    </tr>\n  </thead>\n  <tbody>\n    <tr>\n      <th>0</th>\n      <td>after</td>\n      <td>-104.6000</td>\n    </tr>\n    <tr>\n      <th>1</th>\n      <td>before</td>\n      <td>-60.5625</td>\n    </tr>\n  </tbody>\n</table>\n</div>"
     },
     "execution_count": 14,
     "metadata": {},
     "output_type": "execute_result"
    }
   ],
   "source": [
    "query = '''\n",
    "--count average\n",
    "SELECT case when test.first_commit_ts < test.first_view_ts\n",
    "        THEN 'before' else 'after'\n",
    "        end as time,\n",
    "        AVG(CAST((julianday(test.first_commit_ts) -\n",
    "      \tjulianday(datetime(deadlines.deadlines, 'unixepoch')))\n",
    "     \t* 24 AS integer)) AS avg_diff\n",
    "FROM test\n",
    "JOIN deadlines ON test.labname=deadlines.labs\n",
    "WHERE labname<>'project1'\n",
    "--users with after AND before values\n",
    "AND uid in\n",
    "(SELECT uid from\n",
    " --before,after commit\n",
    "(SELECT test.uid,\n",
    "        case when test.first_commit_ts < test.first_view_ts\n",
    "        THEN 'before' else 'after'\n",
    "        end as time\n",
    "FROM test\n",
    "JOIN deadlines ON test.labname=deadlines.labs\n",
    "WHERE labname<>'project1')\n",
    "GROUP by uid\n",
    "HAVING COUNT(DISTINCT time)=2)\n",
    "GROUP by time\n",
    "'''\n",
    "test_results = pd.io.sql.read_sql(query, db_con)\n",
    "test_results"
   ],
   "metadata": {
    "collapsed": false,
    "pycharm": {
     "name": "#%%\n"
    }
   }
  },
  {
   "cell_type": "code",
   "execution_count": 15,
   "outputs": [
    {
     "data": {
      "text/plain": "     time  avg_diff\n0   after  -217.525\n1  before   -95.500",
      "text/html": "<div>\n<style scoped>\n    .dataframe tbody tr th:only-of-type {\n        vertical-align: middle;\n    }\n\n    .dataframe tbody tr th {\n        vertical-align: top;\n    }\n\n    .dataframe thead th {\n        text-align: right;\n    }\n</style>\n<table border=\"1\" class=\"dataframe\">\n  <thead>\n    <tr style=\"text-align: right;\">\n      <th></th>\n      <th>time</th>\n      <th>avg_diff</th>\n    </tr>\n  </thead>\n  <tbody>\n    <tr>\n      <th>0</th>\n      <td>after</td>\n      <td>-217.525</td>\n    </tr>\n    <tr>\n      <th>1</th>\n      <td>before</td>\n      <td>-95.500</td>\n    </tr>\n  </tbody>\n</table>\n</div>"
     },
     "execution_count": 15,
     "metadata": {},
     "output_type": "execute_result"
    }
   ],
   "source": [
    "query = '''\n",
    "--count average\n",
    "SELECT case when control.first_commit_ts < control.first_view_ts\n",
    "        THEN 'before' else 'after'\n",
    "        end as time,\n",
    "        AVG(CAST((julianday(control.first_commit_ts) -\n",
    "      \tjulianday(datetime(deadlines.deadlines, 'unixepoch')))\n",
    "     \t* 24 AS integer)) AS avg_diff\n",
    "FROM control\n",
    "JOIN deadlines ON control.labname=deadlines.labs\n",
    "WHERE labname<>'project1'\n",
    "--users with after AND before values\n",
    "AND uid in\n",
    "(SELECT uid from\n",
    " --before,after commit\n",
    "(SELECT control.uid,\n",
    "        case when control.first_commit_ts < control.first_view_ts\n",
    "        THEN 'before' else 'after'\n",
    "        end as time\n",
    "FROM control\n",
    "JOIN deadlines ON control.labname=deadlines.labs\n",
    "WHERE labname<>'project1')\n",
    "GROUP by uid\n",
    "HAVING COUNT(DISTINCT time)=2)\n",
    "GROUP by time\n",
    "'''\n",
    "control_results = pd.io.sql.read_sql(query, db_con)\n",
    "control_results"
   ],
   "metadata": {
    "collapsed": false,
    "pycharm": {
     "name": "#%%\n"
    }
   }
  },
  {
   "cell_type": "markdown",
   "source": [
    "## Close the connection"
   ],
   "metadata": {
    "collapsed": false,
    "pycharm": {
     "name": "#%% md\n"
    }
   }
  },
  {
   "cell_type": "code",
   "execution_count": 16,
   "outputs": [],
   "source": [
    "db_con.close()"
   ],
   "metadata": {
    "collapsed": false,
    "pycharm": {
     "name": "#%%\n"
    }
   }
  },
  {
   "cell_type": "markdown",
   "source": [
    "## Did the hypothesis turn out to be true and the page does affect the students’ behavior?"
   ],
   "metadata": {
    "collapsed": false,
    "pycharm": {
     "name": "#%% md\n"
    }
   }
  },
  {
   "cell_type": "markdown",
   "source": [
    "Hypothesis is wrong ;("
   ],
   "metadata": {
    "collapsed": false,
    "pycharm": {
     "name": "#%% md\n"
    }
   }
  }
 ],
 "metadata": {
  "kernelspec": {
   "display_name": "Python 3",
   "language": "python",
   "name": "python3"
  },
  "language_info": {
   "codemirror_mode": {
    "name": "ipython",
    "version": 2
   },
   "file_extension": ".py",
   "mimetype": "text/x-python",
   "name": "python",
   "nbconvert_exporter": "python",
   "pygments_lexer": "ipython2",
   "version": "2.7.6"
  }
 },
 "nbformat": 4,
 "nbformat_minor": 0
}